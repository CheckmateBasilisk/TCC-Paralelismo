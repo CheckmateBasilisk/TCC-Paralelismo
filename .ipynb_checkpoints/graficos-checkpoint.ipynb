{
 "cells": [
  {
   "cell_type": "code",
   "execution_count": 1,
   "metadata": {},
   "outputs": [],
   "source": [
    "import pandas as pd\n",
    "import statistics as stat"
   ]
  },
  {
   "cell_type": "code",
   "execution_count": 2,
   "metadata": {},
   "outputs": [],
   "source": [
    "import numpy as np\n",
    "import scipy.stats\n",
    "\n",
    "def mean_confidence_interval(data, confidence=0.95, normalize=False):\n",
    "    a = 1.0 * np.array(data)\n",
    "    n = len(a)\n",
    "\n",
    "    # normalization comes here?\n",
    "    \n",
    "    m, se = np.mean(a), scipy.stats.sem(a)\n",
    "    h = se * scipy.stats.t.ppf((1 + confidence) / 2., n-1)\n",
    "    return m, h\n",
    "\n",
    "\n",
    "# returns average m and confidence interval h ( +- h )\n",
    "def readAverage(lang = None, app = None, nThreads = 0, normalize=False):\n",
    "    my_file = open(f\"./output/{lang}_{app}_{nThreads}threads.out\", \"r\")\n",
    "    content = my_file.read()\n",
    "    content_list = content.split(\"\\n\")\n",
    "    my_file.close()\n",
    "    content_list = list(map(float, content_list[:30]))\n",
    "    #return stat.mean(content_list)\n",
    "    return mean_confidence_interval(content_list)\n",
    "    \n",
    "#av, er = readAverage(lang=\"python_threadpool\", app='pi', nThreads = 0)\n",
    "#print(av)\n",
    "#print(er)"
   ]
  },
  {
   "cell_type": "code",
   "execution_count": 3,
   "metadata": {},
   "outputs": [
    {
     "name": "stdout",
     "output_type": "stream",
     "text": [
      "[1.0, 1.0, 1.5, 1.5, 1.5, 1.5, 2.0, 1.5]\n"
     ]
    }
   ],
   "source": [
    "a = [2,2,3,3,3,3,4,3]\n",
    "\n",
    "# normalizing taking the first value as 1\n",
    "\n",
    "# normalize data before finding mean and stuff\n",
    "# taking a[0] as 1\n",
    "norm = a[0]\n",
    "for idx,val in enumerate(a):\n",
    "    a[idx] = val/norm\n",
    "\n",
    "print(a)"
   ]
  },
  {
   "cell_type": "code",
   "execution_count": 4,
   "metadata": {},
   "outputs": [],
   "source": [
    "languages = [    \n",
    "#    'python_processpool',\n",
    "#    'python_threadpool',\n",
    "#    'go',\n",
    "    'rust',\n",
    "    'kotlin'\n",
    "]\n",
    "\n",
    "applications = [\n",
    "    #'pi',\n",
    "    'matrix',   \n",
    "]\n",
    "\n",
    "nthreads = [0,1,2,3,6,10,100]\n",
    "\n",
    "normalize = False\n",
    "speedup = False"
   ]
  },
  {
   "cell_type": "code",
   "execution_count": 5,
   "metadata": {},
   "outputs": [
    {
     "name": "stdout",
     "output_type": "stream",
     "text": [
      "\n",
      "\n",
      "rust [3.030713473566666, 3.252363462733334, 1.7060969752666664, 1.1510382454666663, 0.9483797150999999, 1.0279233445333336, 0.960125002]\n",
      "kotlin [1.9556333333333336, 1.9771, 1.0233999999999999, 0.7225999999999999, 0.6956666666666667, 1.0696, 1.0614333333333335]\n"
     ]
    }
   ],
   "source": [
    "averages = {} # starts as an empty dict\n",
    "errors = {} # decoupling these two looks so disgusting... but time is of the essence now!\n",
    "\n",
    "for l in languages:\n",
    "    #filenames = []\n",
    "    averages[l] = []\n",
    "    errors[l] = []\n",
    "    #for a in applications:\n",
    "    for a in applications:\n",
    "        for nth in nthreads:\n",
    "            #filenames.append(f'./output/{l}_{a}_{nth}.out')\n",
    "            avg, err = readAverage(lang=l, app=a, nThreads=nth)\n",
    "\n",
    "            averages[l].append(avg)\n",
    "            errors[l].append(err)\n",
    "\n",
    "    if(normalize == True):\n",
    "        #normalize averages within every language\n",
    "        # taking averages[0] (of zero threads) as 1\n",
    "        norm = averages[l][0]\n",
    "        for idx,val in enumerate(averages[l]):\n",
    "            averages[l][idx] = val/norm\n",
    "            errors[l][idx] = errors[l][idx] / norm\n",
    "\n",
    "            if(speedup == True):\n",
    "                averages[l][idx] = 1/ (val/norm)\n",
    "\n",
    "print('\\n')\n",
    "for l in languages:\n",
    "    print(l, averages[l])"
   ]
  },
  {
   "cell_type": "code",
   "execution_count": 6,
   "metadata": {
    "scrolled": true
   },
   "outputs": [
    {
     "data": {
      "text/html": [
       "<div>\n",
       "<style scoped>\n",
       "    .dataframe tbody tr th:only-of-type {\n",
       "        vertical-align: middle;\n",
       "    }\n",
       "\n",
       "    .dataframe tbody tr th {\n",
       "        vertical-align: top;\n",
       "    }\n",
       "\n",
       "    .dataframe thead th {\n",
       "        text-align: right;\n",
       "    }\n",
       "</style>\n",
       "<table border=\"1\" class=\"dataframe\">\n",
       "  <thead>\n",
       "    <tr style=\"text-align: right;\">\n",
       "      <th></th>\n",
       "      <th>nThreads</th>\n",
       "      <th>avg</th>\n",
       "      <th>err</th>\n",
       "    </tr>\n",
       "  </thead>\n",
       "  <tbody>\n",
       "    <tr>\n",
       "      <th>0</th>\n",
       "      <td>0</td>\n",
       "      <td>3.030713</td>\n",
       "      <td>0.023870</td>\n",
       "    </tr>\n",
       "    <tr>\n",
       "      <th>1</th>\n",
       "      <td>1</td>\n",
       "      <td>3.252363</td>\n",
       "      <td>0.061047</td>\n",
       "    </tr>\n",
       "    <tr>\n",
       "      <th>2</th>\n",
       "      <td>2</td>\n",
       "      <td>1.706097</td>\n",
       "      <td>0.008977</td>\n",
       "    </tr>\n",
       "    <tr>\n",
       "      <th>3</th>\n",
       "      <td>3</td>\n",
       "      <td>1.151038</td>\n",
       "      <td>0.008353</td>\n",
       "    </tr>\n",
       "    <tr>\n",
       "      <th>4</th>\n",
       "      <td>6</td>\n",
       "      <td>0.948380</td>\n",
       "      <td>0.012661</td>\n",
       "    </tr>\n",
       "    <tr>\n",
       "      <th>5</th>\n",
       "      <td>10</td>\n",
       "      <td>1.027923</td>\n",
       "      <td>0.010450</td>\n",
       "    </tr>\n",
       "    <tr>\n",
       "      <th>6</th>\n",
       "      <td>100</td>\n",
       "      <td>0.960125</td>\n",
       "      <td>0.003574</td>\n",
       "    </tr>\n",
       "  </tbody>\n",
       "</table>\n",
       "</div>"
      ],
      "text/plain": [
       "   nThreads       avg       err\n",
       "0         0  3.030713  0.023870\n",
       "1         1  3.252363  0.061047\n",
       "2         2  1.706097  0.008977\n",
       "3         3  1.151038  0.008353\n",
       "4         6  0.948380  0.012661\n",
       "5        10  1.027923  0.010450\n",
       "6       100  0.960125  0.003574"
      ]
     },
     "metadata": {},
     "output_type": "display_data"
    },
    {
     "data": {
      "text/html": [
       "<div>\n",
       "<style scoped>\n",
       "    .dataframe tbody tr th:only-of-type {\n",
       "        vertical-align: middle;\n",
       "    }\n",
       "\n",
       "    .dataframe tbody tr th {\n",
       "        vertical-align: top;\n",
       "    }\n",
       "\n",
       "    .dataframe thead th {\n",
       "        text-align: right;\n",
       "    }\n",
       "</style>\n",
       "<table border=\"1\" class=\"dataframe\">\n",
       "  <thead>\n",
       "    <tr style=\"text-align: right;\">\n",
       "      <th></th>\n",
       "      <th>nThreads</th>\n",
       "      <th>avg</th>\n",
       "      <th>err</th>\n",
       "    </tr>\n",
       "  </thead>\n",
       "  <tbody>\n",
       "    <tr>\n",
       "      <th>0</th>\n",
       "      <td>0</td>\n",
       "      <td>1.955633</td>\n",
       "      <td>0.018363</td>\n",
       "    </tr>\n",
       "    <tr>\n",
       "      <th>1</th>\n",
       "      <td>1</td>\n",
       "      <td>1.977100</td>\n",
       "      <td>0.012923</td>\n",
       "    </tr>\n",
       "    <tr>\n",
       "      <th>2</th>\n",
       "      <td>2</td>\n",
       "      <td>1.023400</td>\n",
       "      <td>0.008993</td>\n",
       "    </tr>\n",
       "    <tr>\n",
       "      <th>3</th>\n",
       "      <td>3</td>\n",
       "      <td>0.722600</td>\n",
       "      <td>0.009808</td>\n",
       "    </tr>\n",
       "    <tr>\n",
       "      <th>4</th>\n",
       "      <td>6</td>\n",
       "      <td>0.695667</td>\n",
       "      <td>0.013953</td>\n",
       "    </tr>\n",
       "    <tr>\n",
       "      <th>5</th>\n",
       "      <td>10</td>\n",
       "      <td>1.069600</td>\n",
       "      <td>0.006001</td>\n",
       "    </tr>\n",
       "    <tr>\n",
       "      <th>6</th>\n",
       "      <td>100</td>\n",
       "      <td>1.061433</td>\n",
       "      <td>0.010774</td>\n",
       "    </tr>\n",
       "  </tbody>\n",
       "</table>\n",
       "</div>"
      ],
      "text/plain": [
       "   nThreads       avg       err\n",
       "0         0  1.955633  0.018363\n",
       "1         1  1.977100  0.012923\n",
       "2         2  1.023400  0.008993\n",
       "3         3  0.722600  0.009808\n",
       "4         6  0.695667  0.013953\n",
       "5        10  1.069600  0.006001\n",
       "6       100  1.061433  0.010774"
      ]
     },
     "metadata": {},
     "output_type": "display_data"
    }
   ],
   "source": [
    "dfs = {}\n",
    "\n",
    "for l in languages:\n",
    "    dfs[l] = {'nThreads': nthreads, 'avg': averages[l], 'err': errors[l]}\n",
    "\n",
    "for l in languages:\n",
    "    df = pd.DataFrame(dfs[l])\n",
    "    df.style.set_caption(f\"{l} - pi\")\n",
    "    display(df)"
   ]
  },
  {
   "cell_type": "code",
   "execution_count": 7,
   "metadata": {},
   "outputs": [
    {
     "data": {
      "image/png": "[encoded data removed]",
      "text/plain": [
       "<Figure size 1200x800 with 1 Axes>"
      ]
     },
     "metadata": {
      "needs_background": "light"
     },
     "output_type": "display_data"
    }
   ],
   "source": [
    "import numpy as np \n",
    "import matplotlib.pyplot as plt \n",
    "\n",
    "%matplotlib inline\n",
    "plt.rcParams['figure.dpi'] = 200\n",
    "\n",
    "X = nthreads\n",
    "\n",
    " \n",
    "X_axis = np.arange(len(X))\n",
    "\n",
    "width = 1.0/(len(languages)+2)\n",
    "\n",
    "count = 0\n",
    "for l in languages:\n",
    "    if(normalize==False):\n",
    "        plt.bar(X_axis+width*count, averages[l], yerr=errors[l], width=width, label = l)\n",
    "    else: # if normalized, omit bars\n",
    "        plt.bar(X_axis+width*count, averages[l], width=width, label = l)\n",
    "    count += 1\n",
    "\n",
    "plt.xticks(X_axis, X)\n",
    "plt.xlabel(\"número de Threads\")\n",
    "if(normalize == True):\n",
    "    plt.ylabel(\"speedup\")\n",
    "    plt.title(f\"speedup médio Rust vs Kotlin por número de threads ({applications[0]})\") #applications[0] é NOJENTO\n",
    "else:\n",
    "    plt.ylabel(\"tempo (s)\")\n",
    "    plt.title(f\"Tempo médio por linguagem por número de threads ({applications[0]})\") #applications[0] é NOJENTO\n",
    "plt.legend()\n",
    "plt.show()"
   ]
  },
  {
   "cell_type": "code",
   "execution_count": null,
   "metadata": {},
   "outputs": [],
   "source": []
  },
  {
   "cell_type": "code",
   "execution_count": null,
   "metadata": {},
   "outputs": [],
   "source": []
  },
  {
   "cell_type": "code",
   "execution_count": null,
   "metadata": {},
   "outputs": [],
   "source": []
  }
 ],
 "metadata": {
  "kernelspec": {
   "display_name": "Python 3",
   "language": "python",
   "name": "python3"
  },
  "language_info": {
   "codemirror_mode": {
    "name": "ipython",
    "version": 3
   },
   "file_extension": ".py",
   "mimetype": "text/x-python",
   "name": "python",
   "nbconvert_exporter": "python",
   "pygments_lexer": "ipython3",
   "version": "3.8.10"
  }
 },
 "nbformat": 4,
 "nbformat_minor": 4
}
